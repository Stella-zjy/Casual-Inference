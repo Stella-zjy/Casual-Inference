{
 "cells": [
  {
   "cell_type": "code",
   "execution_count": 36,
   "metadata": {
    "collapsed": true,
    "pycharm": {
     "name": "#%%\n"
    }
   },
   "outputs": [],
   "source": [
    "import warnings\n",
    "warnings.filterwarnings('ignore')\n",
    "\n",
    "import pandas as pd\n",
    "import numpy as np\n",
    "from scipy import stats\n",
    "from matplotlib import style\n",
    "import seaborn as sns\n",
    "from matplotlib import pyplot as plt\n",
    "import statsmodels.formula.api as smf\n",
    "import graphviz as gr\n",
    "from linearmodels.iv import IV2SLS\n",
    "\n",
    "%matplotlib inline\n",
    "\n",
    "pd.set_option(\"display.max_columns\", 5)\n",
    "style.use(\"fivethirtyeight\")"
   ]
  },
  {
   "cell_type": "code",
   "execution_count": 37,
   "outputs": [
    {
     "data": {
      "text/plain": "       age  workclass  ...  native-country income_>50K\n0       67    Private  ...   United-States           1\n1       17    Private  ...   United-States           0\n2       31    Private  ...   United-States           1\n3       58  State-gov  ...   United-States           0\n4       25  State-gov  ...   United-States           0\n...    ...        ...  ...             ...         ...\n43952   52    Private  ...   United-States           1\n43953   19    Private  ...   United-States           0\n43954   30    Private  ...   United-States           0\n43955   46    Private  ...   United-States           0\n43956   30    Private  ...   United-States           0\n\n[40727 rows x 15 columns]",
      "text/html": "<div>\n<style scoped>\n    .dataframe tbody tr th:only-of-type {\n        vertical-align: middle;\n    }\n\n    .dataframe tbody tr th {\n        vertical-align: top;\n    }\n\n    .dataframe thead th {\n        text-align: right;\n    }\n</style>\n<table border=\"1\" class=\"dataframe\">\n  <thead>\n    <tr style=\"text-align: right;\">\n      <th></th>\n      <th>age</th>\n      <th>workclass</th>\n      <th>...</th>\n      <th>native-country</th>\n      <th>income_&gt;50K</th>\n    </tr>\n  </thead>\n  <tbody>\n    <tr>\n      <th>0</th>\n      <td>67</td>\n      <td>Private</td>\n      <td>...</td>\n      <td>United-States</td>\n      <td>1</td>\n    </tr>\n    <tr>\n      <th>1</th>\n      <td>17</td>\n      <td>Private</td>\n      <td>...</td>\n      <td>United-States</td>\n      <td>0</td>\n    </tr>\n    <tr>\n      <th>2</th>\n      <td>31</td>\n      <td>Private</td>\n      <td>...</td>\n      <td>United-States</td>\n      <td>1</td>\n    </tr>\n    <tr>\n      <th>3</th>\n      <td>58</td>\n      <td>State-gov</td>\n      <td>...</td>\n      <td>United-States</td>\n      <td>0</td>\n    </tr>\n    <tr>\n      <th>4</th>\n      <td>25</td>\n      <td>State-gov</td>\n      <td>...</td>\n      <td>United-States</td>\n      <td>0</td>\n    </tr>\n    <tr>\n      <th>...</th>\n      <td>...</td>\n      <td>...</td>\n      <td>...</td>\n      <td>...</td>\n      <td>...</td>\n    </tr>\n    <tr>\n      <th>43952</th>\n      <td>52</td>\n      <td>Private</td>\n      <td>...</td>\n      <td>United-States</td>\n      <td>1</td>\n    </tr>\n    <tr>\n      <th>43953</th>\n      <td>19</td>\n      <td>Private</td>\n      <td>...</td>\n      <td>United-States</td>\n      <td>0</td>\n    </tr>\n    <tr>\n      <th>43954</th>\n      <td>30</td>\n      <td>Private</td>\n      <td>...</td>\n      <td>United-States</td>\n      <td>0</td>\n    </tr>\n    <tr>\n      <th>43955</th>\n      <td>46</td>\n      <td>Private</td>\n      <td>...</td>\n      <td>United-States</td>\n      <td>0</td>\n    </tr>\n    <tr>\n      <th>43956</th>\n      <td>30</td>\n      <td>Private</td>\n      <td>...</td>\n      <td>United-States</td>\n      <td>0</td>\n    </tr>\n  </tbody>\n</table>\n<p>40727 rows × 15 columns</p>\n</div>"
     },
     "execution_count": 37,
     "metadata": {},
     "output_type": "execute_result"
    }
   ],
   "source": [
    "data = pd.read_csv(\"../Casual-Inference/data/income_data/train.csv\")\n",
    "data = data.dropna()\n",
    "data.describe()\n",
    "data"
   ],
   "metadata": {
    "collapsed": false,
    "pycharm": {
     "name": "#%%\n"
    }
   }
  },
  {
   "cell_type": "code",
   "execution_count": 38,
   "outputs": [
    {
     "data": {
      "text/plain": "       race  educational_num  ...  gender  age_interval\n0         0               16  ...       0           8.0\n1         0                8  ...       0          -1.0\n2         0               13  ...       0           3.0\n3         0                4  ...       0           7.0\n4         1               10  ...       0           2.0\n...     ...              ...  ...     ...           ...\n43952     0               13  ...       0           7.0\n43953     0                9  ...       1          -1.0\n43954     0               10  ...       0           3.0\n43955     0               13  ...       1           6.0\n43956     0                9  ...       0           3.0\n\n[40727 rows x 10 columns]",
      "text/html": "<div>\n<style scoped>\n    .dataframe tbody tr th:only-of-type {\n        vertical-align: middle;\n    }\n\n    .dataframe tbody tr th {\n        vertical-align: top;\n    }\n\n    .dataframe thead th {\n        text-align: right;\n    }\n</style>\n<table border=\"1\" class=\"dataframe\">\n  <thead>\n    <tr style=\"text-align: right;\">\n      <th></th>\n      <th>race</th>\n      <th>educational_num</th>\n      <th>...</th>\n      <th>gender</th>\n      <th>age_interval</th>\n    </tr>\n  </thead>\n  <tbody>\n    <tr>\n      <th>0</th>\n      <td>0</td>\n      <td>16</td>\n      <td>...</td>\n      <td>0</td>\n      <td>8.0</td>\n    </tr>\n    <tr>\n      <th>1</th>\n      <td>0</td>\n      <td>8</td>\n      <td>...</td>\n      <td>0</td>\n      <td>-1.0</td>\n    </tr>\n    <tr>\n      <th>2</th>\n      <td>0</td>\n      <td>13</td>\n      <td>...</td>\n      <td>0</td>\n      <td>3.0</td>\n    </tr>\n    <tr>\n      <th>3</th>\n      <td>0</td>\n      <td>4</td>\n      <td>...</td>\n      <td>0</td>\n      <td>7.0</td>\n    </tr>\n    <tr>\n      <th>4</th>\n      <td>1</td>\n      <td>10</td>\n      <td>...</td>\n      <td>0</td>\n      <td>2.0</td>\n    </tr>\n    <tr>\n      <th>...</th>\n      <td>...</td>\n      <td>...</td>\n      <td>...</td>\n      <td>...</td>\n      <td>...</td>\n    </tr>\n    <tr>\n      <th>43952</th>\n      <td>0</td>\n      <td>13</td>\n      <td>...</td>\n      <td>0</td>\n      <td>7.0</td>\n    </tr>\n    <tr>\n      <th>43953</th>\n      <td>0</td>\n      <td>9</td>\n      <td>...</td>\n      <td>1</td>\n      <td>-1.0</td>\n    </tr>\n    <tr>\n      <th>43954</th>\n      <td>0</td>\n      <td>10</td>\n      <td>...</td>\n      <td>0</td>\n      <td>3.0</td>\n    </tr>\n    <tr>\n      <th>43955</th>\n      <td>0</td>\n      <td>13</td>\n      <td>...</td>\n      <td>1</td>\n      <td>6.0</td>\n    </tr>\n    <tr>\n      <th>43956</th>\n      <td>0</td>\n      <td>9</td>\n      <td>...</td>\n      <td>0</td>\n      <td>3.0</td>\n    </tr>\n  </tbody>\n</table>\n<p>40727 rows × 10 columns</p>\n</div>"
     },
     "execution_count": 38,
     "metadata": {},
     "output_type": "execute_result"
    }
   ],
   "source": [
    "data = data.loc[:, [\"race\", \"educational-num\", \"age\", \"income_>50K\", \"occupation\", \"relationship\", \"marital-status\", \"native-country\", \"gender\"]]\n",
    "data.rename(columns = {'educational-num':'educational_num', \"income_>50K\": \"income_bigger_than_50K\", 'marital-status':'marital_status'}, inplace = True)\n",
    "data[\"race\"] = data[\"race\"].replace(to_replace =\"Amer-Indian-Eskimo\",\n",
    "                 value =\"Indian\")\n",
    "data[\"race\"] = data[\"race\"].replace(to_replace =\"Asian-Pac-Islander\",\n",
    "                 value =\"Asian\")\n",
    "occupationDict = {\n",
    "    \"Exec-managerial\" : 0,\n",
    "    \"Other-service\" : 1,\n",
    "    \"Transport-moving\" : 2,\n",
    "    \"Adm-clerical\" : 3,\n",
    "    \"Machine-op-inspct\" : 4,\n",
    "    \"Sales\" : 5,\n",
    "    \"Handlers-cleaners\" : 6,\n",
    "    \"Farming-fishing\" : 7,\n",
    "    \"Protective-serv\" : 8,\n",
    "    \"Prof-specialty\" : 9,\n",
    "    \"Craft-repair\" : 10,\n",
    "    \"Tech-support\" : 11,\n",
    "    \"Priv-house-serv\" : 12,\n",
    "    \"Armed-Forces\" : 13,\n",
    "    \"\" : -1\n",
    "}\n",
    "raceDict = {\n",
    "    \"White\" : 0,\n",
    "    \"Black\" : 1,\n",
    "    \"Asian\" : 2,\n",
    "    \"Indian\" : 3,\n",
    "    \"Other\" : 4,\n",
    "    \"\" : -1\n",
    "}\n",
    "genderDict = {\n",
    "    \"Male\" : 0,\n",
    "    \"Female\" : 1,\n",
    "    \"\" : -1\n",
    "}\n",
    "def map_age(age):\n",
    "    if age < 20 or age > 90: return -1\n",
    "    if 20 <= age < 25: return 1\n",
    "    if 25 <= age < 30: return 2\n",
    "    if 30 <= age < 35: return 3\n",
    "    if 35 <= age < 40: return 4\n",
    "    if 40 <= age < 45: return 5\n",
    "    if 45 <= age < 50: return 6\n",
    "    if 50 <= age < 60: return 7\n",
    "    if 60 <= age < 75: return 8\n",
    "    if 75 <= age < 90: return 9\n",
    "\n",
    "data[\"occupation\"] = data[\"occupation\"].map(occupationDict)\n",
    "data[\"race\"] = data[\"race\"].map(raceDict)\n",
    "data[\"gender\"] = data[\"gender\"].map(genderDict)\n",
    "data[\"age_interval\"] = data[\"age\"].map(map_age)\n",
    "data"
   ],
   "metadata": {
    "collapsed": false,
    "pycharm": {
     "name": "#%%\n"
    }
   }
  }
 ],
 "metadata": {
  "kernelspec": {
   "display_name": "Python 3",
   "language": "python",
   "name": "python3"
  },
  "language_info": {
   "codemirror_mode": {
    "name": "ipython",
    "version": 2
   },
   "file_extension": ".py",
   "mimetype": "text/x-python",
   "name": "python",
   "nbconvert_exporter": "python",
   "pygments_lexer": "ipython2",
   "version": "2.7.6"
  }
 },
 "nbformat": 4,
 "nbformat_minor": 0
}