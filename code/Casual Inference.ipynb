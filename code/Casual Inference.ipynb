{
 "cells": [
  {
   "cell_type": "markdown",
   "source": [
    "First we preprocess the data. Replace the string in original data with integer to make it easy for us to process."
   ],
   "metadata": {
    "collapsed": false,
    "pycharm": {
     "name": "#%% md\n"
    }
   }
  },
  {
   "cell_type": "code",
   "execution_count": null,
   "outputs": [],
   "source": [
    "from tkinter.messagebox import RETRY\n",
    "import warnings\n",
    "warnings.filterwarnings('ignore')\n",
    "import pandas as pd\n",
    "import numpy as np\n",
    "from scipy import stats\n",
    "from matplotlib import style\n",
    "import seaborn as sns\n",
    "from matplotlib import pyplot as plt\n",
    "import statsmodels.formula.api as smf\n",
    "import graphviz as gr\n",
    "from linearmodels.iv import IV2SLS\n",
    "pd.set_option(\"display.max_columns\", 5)\n",
    "style.use(\"fivethirtyeight\")\n",
    "relative_path = \"..\"\n",
    "\n",
    "def get_dataset():\n",
    "    data = pd.read_csv(relative_path + \"/data/income_data/train.csv\")\n",
    "    data = data.dropna(axis=0)\n",
    "    data.rename(columns={'educational-num': 'educational_num', \"income_>50K\": \"income_bigger_than_50K\",\n",
    "                         'marital-status': 'marital_status', 'native-country': 'native_country'}, inplace=True)\n",
    "    data[\"race\"] = data[\"race\"].replace(to_replace=\"Amer-Indian-Eskimo\",\n",
    "                                        value=\"Indian\")\n",
    "    data[\"race\"] = data[\"race\"].replace(to_replace=\"Asian-Pac-Islander\",\n",
    "                                        value=\"Asian\")\n",
    "\n",
    "    occupationDict = {\n",
    "        \"Exec-managerial\": 0,\n",
    "        \"Other-service\": 4,\n",
    "        \"Transport-moving\": 5,\n",
    "        \"Adm-clerical\": 6,\n",
    "        \"Machine-op-inspct\": 5,\n",
    "        \"Sales\": 3,\n",
    "        \"Handlers-cleaners\": 5,\n",
    "        \"Farming-fishing\": 5,\n",
    "        \"Protective-serv\": 2,\n",
    "        \"Prof-specialty\": 2,\n",
    "        \"Craft-repair\": 1,\n",
    "        \"Tech-support\": 5,\n",
    "        \"Priv-house-serv\": 5,\n",
    "        \"Armed-Forces\": 5\n",
    "    }\n",
    "    data[\"occupation\"] = data[\"occupation\"].map(occupationDict)\n",
    "    raceDict = {\n",
    "        \"White\": 0,\n",
    "        \"Black\": 1,\n",
    "        \"Asian\": 2,\n",
    "        \"Indian\": 2,\n",
    "        \"Other\": 2\n",
    "    }\n",
    "    data[\"race\"] = data[\"race\"].map(raceDict)\n",
    "    genderDict = {\n",
    "        \"Male\": 0,\n",
    "        \"Female\": 1\n",
    "    }\n",
    "    data[\"gender\"] = data[\"gender\"].map(genderDict)\n",
    "    maritalDict = {\n",
    "        \"Divorced\": 2,\n",
    "        \"Never-married\": 1,\n",
    "        \"Married-civ-spouse\": 0,\n",
    "        \"Widowed\": 2,\n",
    "        \"Separated\": 2,\n",
    "        \"Married-spouse-absent\": 2,\n",
    "        \"Married-AF-spouse\": 2\n",
    "    }\n",
    "    data[\"marital_status\"] = data[\"marital_status\"].map(maritalDict)\n",
    "    def map_country(native_country):\n",
    "        if native_country == \"United-States\":\n",
    "            return 0\n",
    "        else:\n",
    "            return 1\n",
    "    data[\"native_country\"] = data[\"native_country\"].map(map_country)\n",
    "    workclassDict = {\n",
    "        'Private': 0,\n",
    "        'State-gov': 1,\n",
    "        'Self-emp-not-inc': 2,\n",
    "        'Federal-gov': 1,\n",
    "        'Local-gov': 1,\n",
    "        'Self-emp-inc': 1,\n",
    "        'Without-pay': 1\n",
    "    }\n",
    "    data[\"workclass\"] = data[\"workclass\"].map(workclassDict)\n",
    "    educationDict = {\n",
    "        'Doctorate': 1,\n",
    "        '12th': 0,\n",
    "        'Bachelors': 1,\n",
    "        '7th-8th': 0,\n",
    "        'Some-college': 1,\n",
    "        'HS-grad': 0,\n",
    "        '9th': 0,\n",
    "        '10th': 0,\n",
    "        '11th': 0,\n",
    "        'Masters': 1,\n",
    "        'Preschool': 0,\n",
    "        '5th-6th': 0,\n",
    "        'Prof-school': 0,\n",
    "        'Assoc-voc': 0,\n",
    "        'Assoc-acdm': 0,\n",
    "        '1st-4th': 0\n",
    "    }\n",
    "    data[\"education\"] = data[\"education\"].map(educationDict)\n",
    "    def map_relationship(relationship):\n",
    "        if relationship == \"Husband\":\n",
    "            return 0\n",
    "        if relationship == \"Not-in-family\":\n",
    "            return 1\n",
    "        else:\n",
    "            return 2\n",
    "    data[\"relationship\"] = data[\"relationship\"].map(map_relationship)\n",
    "    data.to_csv(relative_path + \"/data/income_data/modified_train.csv\")\n",
    "    return data"
   ],
   "metadata": {
    "collapsed": false,
    "pycharm": {
     "name": "#%%\n",
     "is_executing": true
    }
   }
  },
  {
   "cell_type": "markdown",
   "source": [
    "Modify the data set"
   ],
   "metadata": {
    "collapsed": false,
    "pycharm": {
     "name": "#%% md\n"
    }
   }
  },
  {
   "cell_type": "code",
   "execution_count": null,
   "outputs": [],
   "source": [
    "from torch.utils.data import Dataset\n",
    "\n",
    "class imcomedataset(Dataset):\n",
    "\n",
    "  def __init__(self,train_data,train_outcome,prob):\n",
    "\n",
    "    self.x_train = torch.tensor(train_data, dtype=torch.float32)\n",
    "    self.y_train = torch.tensor(train_outcome, dtype=torch.float32)\n",
    "    self.prob = torch.from_numpy(prob.to_numpy())\n",
    "\n",
    "  def __len__(self):\n",
    "    return len(self.y_train)\n",
    "\n",
    "  def __getitem__(self,idx):\n",
    "    return self.x_train[idx],self.y_train[idx],self.prob[idx]"
   ],
   "metadata": {
    "collapsed": false,
    "pycharm": {
     "name": "#%%\n",
     "is_executing": true
    }
   }
  },
  {
   "cell_type": "markdown",
   "source": [
    "Then we modify the training model."
   ],
   "metadata": {
    "collapsed": false,
    "pycharm": {
     "name": "#%% md\n"
    }
   }
  },
  {
   "cell_type": "code",
   "execution_count": null,
   "outputs": [],
   "source": [
    "import torch\n",
    "import torch.nn.functional as F\n",
    "from torch import nn\n",
    "from torch.nn import Module\n",
    "\n",
    "class MLP(nn.Module):\n",
    "    def __init__(self, input_dim, output_dim):\n",
    "        super().__init__()\n",
    "\n",
    "        self.input_fc = nn.Linear(input_dim, 10)\n",
    "        self.hidden_fc = nn.Linear(10, 10)\n",
    "        self.output_fc = nn.Linear(10, output_dim)\n",
    "\n",
    "    def forward(self, x):\n",
    "\n",
    "        # x = [batch size, height, width]\n",
    "\n",
    "        batch_size = x.shape[0]\n",
    "\n",
    "        x = x.view(batch_size, -1)\n",
    "\n",
    "        # x = [batch size, height * width]\n",
    "\n",
    "        h_1 = F.relu(self.input_fc(x))\n",
    "        # h_1 = [batch size, 250]\n",
    "\n",
    "        h_2 = F.relu(self.hidden_fc(h_1))\n",
    "        # h_2 = [batch size, 100]\n",
    "\n",
    "        h3 = self.output_fc(h_2)\n",
    "        # y_pred = [batch size, output dim]\n",
    "\n",
    "\n",
    "        y_pred = F.sigmoid(h3)\n",
    "        #y_pred = F.softmax(h3, dim=1)\n",
    "        return y_pred, h3"
   ],
   "metadata": {
    "collapsed": false,
    "pycharm": {
     "name": "#%%\n",
     "is_executing": true
    }
   }
  },
  {
   "cell_type": "markdown",
   "source": [
    "Modify the Loss"
   ],
   "metadata": {
    "collapsed": false,
    "pycharm": {
     "name": "#%% md\n"
    }
   }
  },
  {
   "cell_type": "code",
   "execution_count": null,
   "outputs": [],
   "source": [
    "from torch.nn import Module\n",
    "\n",
    "class CustomLoss(Module):\n",
    "    def __init__(self):\n",
    "        super().__init__()\n",
    "\n",
    "    def forward(self, predict_y, y,p):\n",
    "\n",
    "        temp = y - torch.mul(predict_y, p)\n",
    "\n",
    "        return torch.mean(torch.square(temp))"
   ],
   "metadata": {
    "collapsed": false,
    "pycharm": {
     "name": "#%%\n"
    }
   }
  },
  {
   "cell_type": "markdown",
   "source": [
    "First Stage"
   ],
   "metadata": {
    "collapsed": false,
    "pycharm": {
     "name": "#%% md\n"
    }
   }
  },
  {
   "cell_type": "code",
   "execution_count": null,
   "outputs": [],
   "source": [
    "from sklearn.linear_model import LogisticRegression\n",
    "from data_processor import get_xp\n",
    "from sklearn.ensemble import AdaBoostClassifier\n",
    "from sklearn.ensemble import RandomForestClassifier\n",
    "from sklearn.neural_network import MLPClassifier\n",
    "from sklearn.linear_model import LogisticRegression\n",
    "from sklearn.metrics import classification_report\n",
    "\n",
    "# this function will sample based on the probility and times give.\n",
    "# the return is a list of samples\n",
    "def repeat_sample(times=1, possiblity=0.5):\n",
    "    temp = []\n",
    "\n",
    "    def sample(num):\n",
    "        u = np.random.rand()\n",
    "\n",
    "        return 1 if u < num else 0\n",
    "\n",
    "    for i in range(times):\n",
    "        a = sample(possiblity)\n",
    "        temp.append(a)\n",
    "\n",
    "    return temp\n",
    "\n",
    "\n",
    "# this function will build the new treatments\n",
    "def build(x, probilities, times=1, save=False):\n",
    "    treatments = [repeat_sample(times, i) for i in probilities]\n",
    "    data = np.hstack((x.to_numpy(), treatments))\n",
    "    new = pd.DataFrame(data, columns=list(x.columns)\n",
    "                                     + [\"p\" + str(i) for i in range(0, times)])\n",
    "\n",
    "    if save:\n",
    "        new.to_csv(\"../data/income_data/new X.csv\")\n",
    "        print(\"Successful saved!\")\n",
    "\n",
    "    return new\n",
    "\n",
    "\n",
    "# this function will do the first stage and return a new x.\n",
    "# ml method will have 4 opinions\n",
    "# save will auto save the new x with sample result to a csv file.\n",
    "def solve_stage_one(ml_method=\"LR\", save=False):\n",
    "    x, y = get_xp()\n",
    "\n",
    "    d = {\n",
    "        \"LR\": LogisticRegression(),\n",
    "        \"ADA\": AdaBoostClassifier(),\n",
    "        \"FOREST\": RandomForestClassifier(),\n",
    "        \"MLP\": MLPClassifier(),\n",
    "    }\n",
    "\n",
    "    model = d[ml_method.upper()]\n",
    "    clf = model.fit(x, y)\n",
    "    pred = clf.predict(x)\n",
    "    probilities = clf.predict_proba(x)[:, 1]\n",
    "    print(classification_report(y, pred))\n",
    "\n",
    "    new_x = build(x, probilities, 1000, save)\n",
    "\n",
    "    return new_x\n",
    "\n",
    "print(solve_stage_one(\"FOREST\", save=True))"
   ],
   "metadata": {
    "collapsed": false,
    "pycharm": {
     "name": "#%%\n"
    }
   }
  },
  {
   "cell_type": "markdown",
   "source": [
    "Second Stage"
   ],
   "metadata": {
    "collapsed": false,
    "pycharm": {
     "name": "#%% md\n"
    }
   }
  },
  {
   "cell_type": "code",
   "execution_count": null,
   "outputs": [],
   "source": [],
   "metadata": {
    "collapsed": false,
    "pycharm": {
     "name": "#%%\n"
    }
   }
  }
 ],
 "metadata": {
  "kernelspec": {
   "display_name": "Python 3",
   "language": "python",
   "name": "python3"
  },
  "language_info": {
   "codemirror_mode": {
    "name": "ipython",
    "version": 2
   },
   "file_extension": ".py",
   "mimetype": "text/x-python",
   "name": "python",
   "nbconvert_exporter": "python",
   "pygments_lexer": "ipython2",
   "version": "2.7.6"
  }
 },
 "nbformat": 4,
 "nbformat_minor": 0
}