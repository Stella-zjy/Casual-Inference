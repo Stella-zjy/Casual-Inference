{
 "cells": [
  {
   "cell_type": "code",
   "execution_count": 9,
   "id": "d24e811e",
   "metadata": {},
   "outputs": [],
   "source": [
    "import pandas as pd\n",
    "import numpy as np\n",
    "from scipy import stats\n",
    "from matplotlib import style\n",
    "import seaborn as sns\n",
    "from matplotlib import pyplot as plt\n",
    "import statsmodels.formula.api as smf\n",
    "import graphviz as gr\n",
    "from linearmodels.iv import IV2SLS"
   ]
  },
  {
   "cell_type": "code",
   "execution_count": 1,
   "id": "db7b6f25",
   "metadata": {},
   "outputs": [],
   "source": [
    "# !pip install seaborn\n",
    "# !pip install statsmodels\n",
    "# !pip install graphviz\n",
    "# !pip install linearmodels"
   ]
  },
  {
   "cell_type": "markdown",
   "id": "631b434a",
   "metadata": {},
   "source": []
  }
 ],
 "metadata": {
  "kernelspec": {
   "display_name": "Python 3.7.6 ('base')",
   "language": "python",
   "name": "python3"
  },
  "language_info": {
   "codemirror_mode": {
    "name": "ipython",
    "version": 3
   },
   "file_extension": ".py",
   "mimetype": "text/x-python",
   "name": "python",
   "nbconvert_exporter": "python",
   "pygments_lexer": "ipython3",
   "version": "3.7.6"
  },
  "vscode": {
   "interpreter": {
    "hash": "3602065ee927684796035b87177ef431ab9ade38c6fe389b7b9dcf8c0b728ff8"
   }
  }
 },
 "nbformat": 4,
 "nbformat_minor": 5
}
