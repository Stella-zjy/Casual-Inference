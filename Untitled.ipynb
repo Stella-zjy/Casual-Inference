{
 "cells": [
  {
   "cell_type": "code",
   "execution_count": 88,
   "id": "d24e811e",
   "metadata": {},
   "outputs": [],
   "source": [
    "import warnings\n",
    "warnings.filterwarnings('ignore')\n",
    "\n",
    "import pandas as pd\n",
    "import numpy as np\n",
    "from scipy import stats\n",
    "from matplotlib import style\n",
    "import seaborn as sns\n",
    "from matplotlib import pyplot as plt\n",
    "import statsmodels.formula.api as smf\n",
    "import graphviz as gr\n",
    "from linearmodels.iv import IV2SLS\n",
    "\n",
    "%matplotlib inline\n",
    "\n",
    "pd.set_option(\"display.max_columns\", 5)\n",
    "style.use(\"fivethirtyeight\")"
   ]
  },
  {
   "cell_type": "markdown",
   "id": "deda0705",
   "metadata": {},
   "source": [
    "# Data Import and Cleaning "
   ]
  },
  {
   "cell_type": "code",
   "execution_count": 169,
   "id": "db7b6f25",
   "metadata": {},
   "outputs": [
    {
     "data": {
      "text/html": [
       "<div>\n",
       "<style scoped>\n",
       "    .dataframe tbody tr th:only-of-type {\n",
       "        vertical-align: middle;\n",
       "    }\n",
       "\n",
       "    .dataframe tbody tr th {\n",
       "        vertical-align: top;\n",
       "    }\n",
       "\n",
       "    .dataframe thead th {\n",
       "        text-align: right;\n",
       "    }\n",
       "</style>\n",
       "<table border=\"1\" class=\"dataframe\">\n",
       "  <thead>\n",
       "    <tr style=\"text-align: right;\">\n",
       "      <th></th>\n",
       "      <th>age</th>\n",
       "      <th>workclass</th>\n",
       "      <th>...</th>\n",
       "      <th>native-country</th>\n",
       "      <th>income_&gt;50K</th>\n",
       "    </tr>\n",
       "  </thead>\n",
       "  <tbody>\n",
       "    <tr>\n",
       "      <th>0</th>\n",
       "      <td>67</td>\n",
       "      <td>Private</td>\n",
       "      <td>...</td>\n",
       "      <td>United-States</td>\n",
       "      <td>1</td>\n",
       "    </tr>\n",
       "    <tr>\n",
       "      <th>1</th>\n",
       "      <td>17</td>\n",
       "      <td>Private</td>\n",
       "      <td>...</td>\n",
       "      <td>United-States</td>\n",
       "      <td>0</td>\n",
       "    </tr>\n",
       "    <tr>\n",
       "      <th>2</th>\n",
       "      <td>31</td>\n",
       "      <td>Private</td>\n",
       "      <td>...</td>\n",
       "      <td>United-States</td>\n",
       "      <td>1</td>\n",
       "    </tr>\n",
       "    <tr>\n",
       "      <th>3</th>\n",
       "      <td>58</td>\n",
       "      <td>State-gov</td>\n",
       "      <td>...</td>\n",
       "      <td>United-States</td>\n",
       "      <td>0</td>\n",
       "    </tr>\n",
       "    <tr>\n",
       "      <th>4</th>\n",
       "      <td>25</td>\n",
       "      <td>State-gov</td>\n",
       "      <td>...</td>\n",
       "      <td>United-States</td>\n",
       "      <td>0</td>\n",
       "    </tr>\n",
       "    <tr>\n",
       "      <th>...</th>\n",
       "      <td>...</td>\n",
       "      <td>...</td>\n",
       "      <td>...</td>\n",
       "      <td>...</td>\n",
       "      <td>...</td>\n",
       "    </tr>\n",
       "    <tr>\n",
       "      <th>43952</th>\n",
       "      <td>52</td>\n",
       "      <td>Private</td>\n",
       "      <td>...</td>\n",
       "      <td>United-States</td>\n",
       "      <td>1</td>\n",
       "    </tr>\n",
       "    <tr>\n",
       "      <th>43953</th>\n",
       "      <td>19</td>\n",
       "      <td>Private</td>\n",
       "      <td>...</td>\n",
       "      <td>United-States</td>\n",
       "      <td>0</td>\n",
       "    </tr>\n",
       "    <tr>\n",
       "      <th>43954</th>\n",
       "      <td>30</td>\n",
       "      <td>Private</td>\n",
       "      <td>...</td>\n",
       "      <td>United-States</td>\n",
       "      <td>0</td>\n",
       "    </tr>\n",
       "    <tr>\n",
       "      <th>43955</th>\n",
       "      <td>46</td>\n",
       "      <td>Private</td>\n",
       "      <td>...</td>\n",
       "      <td>United-States</td>\n",
       "      <td>0</td>\n",
       "    </tr>\n",
       "    <tr>\n",
       "      <th>43956</th>\n",
       "      <td>30</td>\n",
       "      <td>Private</td>\n",
       "      <td>...</td>\n",
       "      <td>United-States</td>\n",
       "      <td>0</td>\n",
       "    </tr>\n",
       "  </tbody>\n",
       "</table>\n",
       "<p>40727 rows × 15 columns</p>\n",
       "</div>"
      ],
      "text/plain": [
       "       age  workclass  ...  native-country income_>50K\n",
       "0       67    Private  ...   United-States           1\n",
       "1       17    Private  ...   United-States           0\n",
       "2       31    Private  ...   United-States           1\n",
       "3       58  State-gov  ...   United-States           0\n",
       "4       25  State-gov  ...   United-States           0\n",
       "...    ...        ...  ...             ...         ...\n",
       "43952   52    Private  ...   United-States           1\n",
       "43953   19    Private  ...   United-States           0\n",
       "43954   30    Private  ...   United-States           0\n",
       "43955   46    Private  ...   United-States           0\n",
       "43956   30    Private  ...   United-States           0\n",
       "\n",
       "[40727 rows x 15 columns]"
      ]
     },
     "execution_count": 169,
     "metadata": {},
     "output_type": "execute_result"
    }
   ],
   "source": [
    "data = pd.read_csv(\"../Casual-Inference/data/income_data/train.csv\")\n",
    "data = data.dropna()\n",
    "data.describe()\n",
    "data"
   ]
  },
  {
   "cell_type": "code",
   "execution_count": 170,
   "id": "3d2b4fd7",
   "metadata": {},
   "outputs": [
    {
     "data": {
      "text/html": [
       "<div>\n",
       "<style scoped>\n",
       "    .dataframe tbody tr th:only-of-type {\n",
       "        vertical-align: middle;\n",
       "    }\n",
       "\n",
       "    .dataframe tbody tr th {\n",
       "        vertical-align: top;\n",
       "    }\n",
       "\n",
       "    .dataframe thead th {\n",
       "        text-align: right;\n",
       "    }\n",
       "</style>\n",
       "<table border=\"1\" class=\"dataframe\">\n",
       "  <thead>\n",
       "    <tr style=\"text-align: right;\">\n",
       "      <th></th>\n",
       "      <th>race</th>\n",
       "      <th>educational_num</th>\n",
       "      <th>age</th>\n",
       "      <th>income_bigger_than_50K</th>\n",
       "    </tr>\n",
       "  </thead>\n",
       "  <tbody>\n",
       "    <tr>\n",
       "      <th>0</th>\n",
       "      <td>White</td>\n",
       "      <td>16</td>\n",
       "      <td>67</td>\n",
       "      <td>1</td>\n",
       "    </tr>\n",
       "    <tr>\n",
       "      <th>1</th>\n",
       "      <td>White</td>\n",
       "      <td>8</td>\n",
       "      <td>17</td>\n",
       "      <td>0</td>\n",
       "    </tr>\n",
       "    <tr>\n",
       "      <th>2</th>\n",
       "      <td>White</td>\n",
       "      <td>13</td>\n",
       "      <td>31</td>\n",
       "      <td>1</td>\n",
       "    </tr>\n",
       "    <tr>\n",
       "      <th>3</th>\n",
       "      <td>White</td>\n",
       "      <td>4</td>\n",
       "      <td>58</td>\n",
       "      <td>0</td>\n",
       "    </tr>\n",
       "    <tr>\n",
       "      <th>4</th>\n",
       "      <td>Black</td>\n",
       "      <td>10</td>\n",
       "      <td>25</td>\n",
       "      <td>0</td>\n",
       "    </tr>\n",
       "    <tr>\n",
       "      <th>...</th>\n",
       "      <td>...</td>\n",
       "      <td>...</td>\n",
       "      <td>...</td>\n",
       "      <td>...</td>\n",
       "    </tr>\n",
       "    <tr>\n",
       "      <th>43952</th>\n",
       "      <td>White</td>\n",
       "      <td>13</td>\n",
       "      <td>52</td>\n",
       "      <td>1</td>\n",
       "    </tr>\n",
       "    <tr>\n",
       "      <th>43953</th>\n",
       "      <td>White</td>\n",
       "      <td>9</td>\n",
       "      <td>19</td>\n",
       "      <td>0</td>\n",
       "    </tr>\n",
       "    <tr>\n",
       "      <th>43954</th>\n",
       "      <td>White</td>\n",
       "      <td>10</td>\n",
       "      <td>30</td>\n",
       "      <td>0</td>\n",
       "    </tr>\n",
       "    <tr>\n",
       "      <th>43955</th>\n",
       "      <td>White</td>\n",
       "      <td>13</td>\n",
       "      <td>46</td>\n",
       "      <td>0</td>\n",
       "    </tr>\n",
       "    <tr>\n",
       "      <th>43956</th>\n",
       "      <td>White</td>\n",
       "      <td>9</td>\n",
       "      <td>30</td>\n",
       "      <td>0</td>\n",
       "    </tr>\n",
       "  </tbody>\n",
       "</table>\n",
       "<p>40727 rows × 4 columns</p>\n",
       "</div>"
      ],
      "text/plain": [
       "        race  educational_num  age  income_bigger_than_50K\n",
       "0      White               16   67                       1\n",
       "1      White                8   17                       0\n",
       "2      White               13   31                       1\n",
       "3      White                4   58                       0\n",
       "4      Black               10   25                       0\n",
       "...      ...              ...  ...                     ...\n",
       "43952  White               13   52                       1\n",
       "43953  White                9   19                       0\n",
       "43954  White               10   30                       0\n",
       "43955  White               13   46                       0\n",
       "43956  White                9   30                       0\n",
       "\n",
       "[40727 rows x 4 columns]"
      ]
     },
     "execution_count": 170,
     "metadata": {},
     "output_type": "execute_result"
    }
   ],
   "source": [
    "data = data.loc[:, [\"race\", \"educational-num\", \"age\", \"income_>50K\"]]\n",
    "data.rename(columns = {'educational-num':'educational_num', \"income_>50K\": \"income_bigger_than_50K\"}, inplace = True)\n",
    "data[\"race\"] = data[\"race\"].replace(to_replace =\"Amer-Indian-Eskimo\",\n",
    "                 value =\"Indian\")\n",
    "data[\"race\"] = data[\"race\"].replace(to_replace =\"Asian-Pac-Islander\",\n",
    "                 value =\"Asian\")\n",
    "data"
   ]
  },
  {
   "cell_type": "code",
   "execution_count": 172,
   "id": "f2c0e478",
   "metadata": {},
   "outputs": [],
   "source": [
    "i = data[\"race\"] # instrument\n",
    "p = data[\"educational_num\"] # treatment\n",
    "x = data[\"age\"]\n",
    "y = data[\"income_bigger_than_50K\"]\n"
   ]
  },
  {
   "cell_type": "code",
   "execution_count": 173,
   "id": "6a6503c5",
   "metadata": {},
   "outputs": [
    {
     "data": {
      "image/svg+xml": [
       "<?xml version=\"1.0\" encoding=\"UTF-8\" standalone=\"no\"?>\r\n",
       "<!DOCTYPE svg PUBLIC \"-//W3C//DTD SVG 1.1//EN\"\r\n",
       " \"http://www.w3.org/Graphics/SVG/1.1/DTD/svg11.dtd\">\r\n",
       "<!-- Generated by graphviz version 2.50.0 (0)\r\n",
       " -->\r\n",
       "<!-- Pages: 1 -->\r\n",
       "<svg width=\"134pt\" height=\"188pt\"\r\n",
       " viewBox=\"0.00 0.00 134.00 188.00\" xmlns=\"http://www.w3.org/2000/svg\" xmlns:xlink=\"http://www.w3.org/1999/xlink\">\r\n",
       "<g id=\"graph0\" class=\"graph\" transform=\"scale(1 1) rotate(0) translate(4 184)\">\r\n",
       "<polygon fill=\"white\" stroke=\"transparent\" points=\"-4,4 -4,-184 130,-184 130,4 -4,4\"/>\r\n",
       "<!-- age -->\r\n",
       "<g id=\"node1\" class=\"node\">\r\n",
       "<title>age</title>\r\n",
       "<ellipse fill=\"none\" stroke=\"black\" cx=\"99\" cy=\"-162\" rx=\"27\" ry=\"18\"/>\r\n",
       "<text text-anchor=\"middle\" x=\"99\" y=\"-158.3\" font-family=\"Times New Roman,serif\" font-size=\"14.00\">age</text>\r\n",
       "</g>\r\n",
       "<!-- educ -->\r\n",
       "<g id=\"node2\" class=\"node\">\r\n",
       "<title>educ</title>\r\n",
       "<ellipse fill=\"none\" stroke=\"black\" cx=\"44\" cy=\"-90\" rx=\"27.1\" ry=\"18\"/>\r\n",
       "<text text-anchor=\"middle\" x=\"44\" y=\"-86.3\" font-family=\"Times New Roman,serif\" font-size=\"14.00\">educ</text>\r\n",
       "</g>\r\n",
       "<!-- age&#45;&gt;educ -->\r\n",
       "<g id=\"edge1\" class=\"edge\">\r\n",
       "<title>age&#45;&gt;educ</title>\r\n",
       "<path fill=\"none\" stroke=\"black\" d=\"M87.07,-145.81C79.89,-136.67 70.6,-124.85 62.48,-114.52\"/>\r\n",
       "<polygon fill=\"black\" stroke=\"black\" points=\"65.22,-112.34 56.29,-106.64 59.72,-116.67 65.22,-112.34\"/>\r\n",
       "</g>\r\n",
       "<!-- wage -->\r\n",
       "<g id=\"node3\" class=\"node\">\r\n",
       "<title>wage</title>\r\n",
       "<ellipse fill=\"none\" stroke=\"black\" cx=\"71\" cy=\"-18\" rx=\"29.5\" ry=\"18\"/>\r\n",
       "<text text-anchor=\"middle\" x=\"71\" y=\"-14.3\" font-family=\"Times New Roman,serif\" font-size=\"14.00\">wage</text>\r\n",
       "</g>\r\n",
       "<!-- age&#45;&gt;wage -->\r\n",
       "<g id=\"edge2\" class=\"edge\">\r\n",
       "<title>age&#45;&gt;wage</title>\r\n",
       "<path fill=\"none\" stroke=\"black\" d=\"M95.62,-143.87C90.83,-119.56 82.01,-74.82 76.33,-46.01\"/>\r\n",
       "<polygon fill=\"black\" stroke=\"black\" points=\"79.76,-45.32 74.39,-36.19 72.89,-46.68 79.76,-45.32\"/>\r\n",
       "</g>\r\n",
       "<!-- educ&#45;&gt;wage -->\r\n",
       "<g id=\"edge3\" class=\"edge\">\r\n",
       "<title>educ&#45;&gt;wage</title>\r\n",
       "<path fill=\"none\" stroke=\"black\" d=\"M50.4,-72.41C53.51,-64.34 57.33,-54.43 60.83,-45.35\"/>\r\n",
       "<polygon fill=\"black\" stroke=\"black\" points=\"64.13,-46.55 64.46,-35.96 57.6,-44.03 64.13,-46.55\"/>\r\n",
       "</g>\r\n",
       "<!-- race -->\r\n",
       "<g id=\"node4\" class=\"node\">\r\n",
       "<title>race</title>\r\n",
       "<ellipse fill=\"none\" stroke=\"black\" cx=\"27\" cy=\"-162\" rx=\"27\" ry=\"18\"/>\r\n",
       "<text text-anchor=\"middle\" x=\"27\" y=\"-158.3\" font-family=\"Times New Roman,serif\" font-size=\"14.00\">race</text>\r\n",
       "</g>\r\n",
       "<!-- race&#45;&gt;educ -->\r\n",
       "<g id=\"edge4\" class=\"edge\">\r\n",
       "<title>race&#45;&gt;educ</title>\r\n",
       "<path fill=\"none\" stroke=\"black\" d=\"M31.12,-144.05C33.01,-136.26 35.3,-126.82 37.42,-118.08\"/>\r\n",
       "<polygon fill=\"black\" stroke=\"black\" points=\"40.85,-118.82 39.8,-108.28 34.04,-117.17 40.85,-118.82\"/>\r\n",
       "</g>\r\n",
       "</g>\r\n",
       "</svg>\r\n"
      ],
      "text/plain": [
       "<graphviz.dot.Digraph at 0x17b71b4b880>"
      ]
     },
     "execution_count": 173,
     "metadata": {},
     "output_type": "execute_result"
    }
   ],
   "source": [
    "g = gr.Digraph()\n",
    "\n",
    "g.edge(\"age\", \"educ\")\n",
    "g.edge(\"age\", \"wage\")\n",
    "g.edge(\"educ\", \"wage\")\n",
    "g.edge(\"race\", \"educ\")\n",
    "g"
   ]
  },
  {
   "cell_type": "markdown",
   "id": "bd244404",
   "metadata": {},
   "source": [
    "# First Stage"
   ]
  },
  {
   "cell_type": "code",
   "execution_count": 174,
   "id": "59281843",
   "metadata": {},
   "outputs": [
    {
     "data": {
      "text/plain": [
       "<BarContainer object of 5 artists>"
      ]
     },
     "execution_count": 174,
     "metadata": {},
     "output_type": "execute_result"
    },
    {
     "data": {
      "image/png": "[encoded data removed]",
      "text/plain": [
       "<Figure size 432x288 with 1 Axes>"
      ]
     },
     "metadata": {},
     "output_type": "display_data"
    }
   ],
   "source": [
    "temp = data.groupby([\"race\"]).mean()\n",
    "\n",
    "plt.ylabel('Year of Education', fontsize=16)\n",
    "plt.bar(temp.index, temp[\"educational_num\"])\n"
   ]
  },
  {
   "cell_type": "code",
   "execution_count": 175,
   "id": "4b67e1c4",
   "metadata": {},
   "outputs": [],
   "source": [
    "factor_data = data.assign(**{f\"{q}\": (data[\"race\"] == q).astype(int)\n",
    "                             for q in data[\"race\"].unique()})"
   ]
  },
  {
   "cell_type": "code",
   "execution_count": 176,
   "id": "19607f2a",
   "metadata": {},
   "outputs": [
    {
     "data": {
      "text/html": [
       "<div>\n",
       "<style scoped>\n",
       "    .dataframe tbody tr th:only-of-type {\n",
       "        vertical-align: middle;\n",
       "    }\n",
       "\n",
       "    .dataframe tbody tr th {\n",
       "        vertical-align: top;\n",
       "    }\n",
       "\n",
       "    .dataframe thead th {\n",
       "        text-align: right;\n",
       "    }\n",
       "</style>\n",
       "<table border=\"1\" class=\"dataframe\">\n",
       "  <thead>\n",
       "    <tr style=\"text-align: right;\">\n",
       "      <th></th>\n",
       "      <th>race</th>\n",
       "      <th>educational_num</th>\n",
       "      <th>...</th>\n",
       "      <th>Other</th>\n",
       "      <th>Indian</th>\n",
       "    </tr>\n",
       "  </thead>\n",
       "  <tbody>\n",
       "    <tr>\n",
       "      <th>0</th>\n",
       "      <td>White</td>\n",
       "      <td>16</td>\n",
       "      <td>...</td>\n",
       "      <td>0</td>\n",
       "      <td>0</td>\n",
       "    </tr>\n",
       "    <tr>\n",
       "      <th>1</th>\n",
       "      <td>White</td>\n",
       "      <td>8</td>\n",
       "      <td>...</td>\n",
       "      <td>0</td>\n",
       "      <td>0</td>\n",
       "    </tr>\n",
       "    <tr>\n",
       "      <th>2</th>\n",
       "      <td>White</td>\n",
       "      <td>13</td>\n",
       "      <td>...</td>\n",
       "      <td>0</td>\n",
       "      <td>0</td>\n",
       "    </tr>\n",
       "    <tr>\n",
       "      <th>3</th>\n",
       "      <td>White</td>\n",
       "      <td>4</td>\n",
       "      <td>...</td>\n",
       "      <td>0</td>\n",
       "      <td>0</td>\n",
       "    </tr>\n",
       "    <tr>\n",
       "      <th>4</th>\n",
       "      <td>Black</td>\n",
       "      <td>10</td>\n",
       "      <td>...</td>\n",
       "      <td>0</td>\n",
       "      <td>0</td>\n",
       "    </tr>\n",
       "    <tr>\n",
       "      <th>...</th>\n",
       "      <td>...</td>\n",
       "      <td>...</td>\n",
       "      <td>...</td>\n",
       "      <td>...</td>\n",
       "      <td>...</td>\n",
       "    </tr>\n",
       "    <tr>\n",
       "      <th>43952</th>\n",
       "      <td>White</td>\n",
       "      <td>13</td>\n",
       "      <td>...</td>\n",
       "      <td>0</td>\n",
       "      <td>0</td>\n",
       "    </tr>\n",
       "    <tr>\n",
       "      <th>43953</th>\n",
       "      <td>White</td>\n",
       "      <td>9</td>\n",
       "      <td>...</td>\n",
       "      <td>0</td>\n",
       "      <td>0</td>\n",
       "    </tr>\n",
       "    <tr>\n",
       "      <th>43954</th>\n",
       "      <td>White</td>\n",
       "      <td>10</td>\n",
       "      <td>...</td>\n",
       "      <td>0</td>\n",
       "      <td>0</td>\n",
       "    </tr>\n",
       "    <tr>\n",
       "      <th>43955</th>\n",
       "      <td>White</td>\n",
       "      <td>13</td>\n",
       "      <td>...</td>\n",
       "      <td>0</td>\n",
       "      <td>0</td>\n",
       "    </tr>\n",
       "    <tr>\n",
       "      <th>43956</th>\n",
       "      <td>White</td>\n",
       "      <td>9</td>\n",
       "      <td>...</td>\n",
       "      <td>0</td>\n",
       "      <td>0</td>\n",
       "    </tr>\n",
       "  </tbody>\n",
       "</table>\n",
       "<p>40727 rows × 9 columns</p>\n",
       "</div>"
      ],
      "text/plain": [
       "        race  educational_num  ...  Other  Indian\n",
       "0      White               16  ...      0       0\n",
       "1      White                8  ...      0       0\n",
       "2      White               13  ...      0       0\n",
       "3      White                4  ...      0       0\n",
       "4      Black               10  ...      0       0\n",
       "...      ...              ...  ...    ...     ...\n",
       "43952  White               13  ...      0       0\n",
       "43953  White                9  ...      0       0\n",
       "43954  White               10  ...      0       0\n",
       "43955  White               13  ...      0       0\n",
       "43956  White                9  ...      0       0\n",
       "\n",
       "[40727 rows x 9 columns]"
      ]
     },
     "execution_count": 176,
     "metadata": {},
     "output_type": "execute_result"
    }
   ],
   "source": [
    "factor_data"
   ]
  },
  {
   "cell_type": "code",
   "execution_count": 177,
   "id": "b0847780",
   "metadata": {},
   "outputs": [
    {
     "name": "stdout",
     "output_type": "stream",
     "text": [
      "Asian parameter estimate:,  0.8818669158265255\n",
      "Asian p-value:,  2.6859847650422517e-33\n"
     ]
    }
   ],
   "source": [
    "first_stage = smf.ols(\"educational_num ~ C(age) + Asian\", data=factor_data).fit()\n",
    "\n",
    "print(\"Asian parameter estimate:, \", first_stage.params[\"Asian\"])\n",
    "print(\"Asian p-value:, \", first_stage.pvalues[\"Asian\"])"
   ]
  },
  {
   "cell_type": "markdown",
   "id": "af84f846",
   "metadata": {},
   "source": [
    "# Reduced Form"
   ]
  },
  {
   "cell_type": "code",
   "execution_count": 178,
   "id": "66d6bd20",
   "metadata": {},
   "outputs": [
    {
     "data": {
      "text/plain": [
       "Index(['race', 'educational_num', 'age', 'income_bigger_than_50K'], dtype='object')"
      ]
     },
     "execution_count": 178,
     "metadata": {},
     "output_type": "execute_result"
    }
   ],
   "source": [
    "data.columns"
   ]
  },
  {
   "cell_type": "code",
   "execution_count": 180,
   "id": "94e00d00",
   "metadata": {},
   "outputs": [
    {
     "data": {
      "text/plain": [
       "<BarContainer object of 5 artists>"
      ]
     },
     "execution_count": 180,
     "metadata": {},
     "output_type": "execute_result"
    },
    {
     "data": {
      "image/png": "[encoded data removed]",
      "text/plain": [
       "<Figure size 432x288 with 1 Axes>"
      ]
     },
     "metadata": {},
     "output_type": "display_data"
    }
   ],
   "source": [
    "temp = data.groupby([\"race\"]).mean()\n",
    "\n",
    "plt.ylabel('Income > 50K Possiblity', fontsize=16)\n",
    "plt.bar(temp.index, temp[\"income_bigger_than_50K\"])\n"
   ]
  },
  {
   "cell_type": "code",
   "execution_count": 181,
   "id": "aa3f9502",
   "metadata": {},
   "outputs": [
    {
     "data": {
      "text/plain": [
       "Index(['race', 'educational_num', 'age', 'income_bigger_than_50K', 'White',\n",
       "       'Black', 'Asian', 'Other', 'Indian'],\n",
       "      dtype='object')"
      ]
     },
     "execution_count": 181,
     "metadata": {},
     "output_type": "execute_result"
    }
   ],
   "source": [
    "factor_data.columns"
   ]
  },
  {
   "cell_type": "code",
   "execution_count": 182,
   "id": "24fa54e2",
   "metadata": {},
   "outputs": [
    {
     "name": "stdout",
     "output_type": "stream",
     "text": [
      "Asian parameter estimate:,  0.03215084247803689\n",
      "Asian p-value:,  0.0077462685774336605\n"
     ]
    }
   ],
   "source": [
    "reduced_form = smf.ols(\"income_bigger_than_50K ~ C(age) + Asian\", data=factor_data).fit()\n",
    "\n",
    "print(\"Asian parameter estimate:, \", reduced_form.params[\"Asian\"])\n",
    "print(\"Asian p-value:, \", reduced_form.pvalues[\"Asian\"])"
   ]
  },
  {
   "cell_type": "markdown",
   "id": "b426cf1c",
   "metadata": {},
   "source": [
    "# Instrumental Variables by Hand"
   ]
  },
  {
   "cell_type": "code",
   "execution_count": 183,
   "id": "b57635bf",
   "metadata": {},
   "outputs": [
    {
     "data": {
      "text/plain": [
       "0.036457703425582834"
      ]
     },
     "execution_count": 183,
     "metadata": {},
     "output_type": "execute_result"
    }
   ],
   "source": [
    "reduced_form.params[\"Asian\"] / first_stage.params[\"Asian\"]"
   ]
  },
  {
   "cell_type": "code",
   "execution_count": 187,
   "id": "3e5bbb6a",
   "metadata": {},
   "outputs": [
    {
     "name": "stdout",
     "output_type": "stream",
     "text": [
      "Parameter: 0.03645770342566834\n",
      "SE: 0.013711924996675484\n",
      "95 CI: [0.00958233 0.06333308]\n",
      "P-value: 0.007841207806587258\n"
     ]
    }
   ],
   "source": [
    "def parse(model, exog=\"educational_num\"):\n",
    "    param = model.params[exog]\n",
    "    se = model.std_errors[exog]\n",
    "    p_val = model.pvalues[exog]\n",
    "    print(f\"Parameter: {param}\")\n",
    "    print(f\"SE: {se}\")\n",
    "    print(f\"95 CI: {(-1.96*se,1.96*se) + param}\")\n",
    "    print(f\"P-value: {p_val}\")\n",
    "    \n",
    "formula = 'income_bigger_than_50K ~ 1 + C(age) + [educational_num ~ Asian]'\n",
    "iv2sls = IV2SLS.from_formula(formula, factor_data).fit()\n",
    "parse(iv2sls)"
   ]
  },
  {
   "cell_type": "markdown",
   "id": "ec4c1f47",
   "metadata": {},
   "source": [
    "# MltuiIV"
   ]
  },
  {
   "cell_type": "code",
   "execution_count": 188,
   "id": "ad978bd9",
   "metadata": {},
   "outputs": [
    {
     "name": "stdout",
     "output_type": "stream",
     "text": [
      "Parameter: 0.05125004653230397\n",
      "SE: 0.000766523483369521\n",
      "95 CI: [0.04974766 0.05275243]\n",
      "P-value: 0.0\n"
     ]
    }
   ],
   "source": [
    "formula = \"income_bigger_than_50K ~ educational_num + C(age) + C(race)\"\n",
    "ols = IV2SLS.from_formula(formula, data=data).fit()\n",
    "parse(ols)"
   ]
  },
  {
   "cell_type": "code",
   "execution_count": null,
   "id": "b6d124ba",
   "metadata": {},
   "outputs": [],
   "source": []
  },
  {
   "cell_type": "code",
   "execution_count": null,
   "id": "9767eb52",
   "metadata": {},
   "outputs": [],
   "source": []
  }
 ],
 "metadata": {
  "kernelspec": {
   "display_name": "Python 3 (ipykernel)",
   "language": "python",
   "name": "python3"
  },
  "language_info": {
   "codemirror_mode": {
    "name": "ipython",
    "version": 3
   },
   "file_extension": ".py",
   "mimetype": "text/x-python",
   "name": "python",
   "nbconvert_exporter": "python",
   "pygments_lexer": "ipython3",
   "version": "3.9.12"
  },
  "vscode": {
   "interpreter": {
    "hash": "aee8b7b246df8f9039afb4144a1f6fd8d2ca17a180786b69acc140d282b71a49"
   }
  }
 },
 "nbformat": 4,
 "nbformat_minor": 5
}
